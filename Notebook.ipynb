{
    "cells": [
        {
            "metadata": {},
            "cell_type": "markdown",
            "source": "<h1>My Jupyter Notebook on IBM Watson Studio</h1>"
        },
        {
            "metadata": {},
            "cell_type": "markdown",
            "source": "<h3><b>Guduri Ajay Krishna</b></h3>\n<p> I am a student<p>"
        },
        {
            "metadata": {},
            "cell_type": "markdown",
            "source": "<i>I am intrested in data science because everything which we do in our daily life it is all related to the data like storing the data, retreving the data, creating the data and many more </i>"
        },
        {
            "metadata": {},
            "cell_type": "markdown",
            "source": "<h3> Multiplication Of Two Numbers</h3>"
        },
        {
            "metadata": {},
            "cell_type": "code",
            "source": "print(2*3)",
            "execution_count": 4,
            "outputs": [
                {
                    "output_type": "stream",
                    "text": "6\n",
                    "name": "stdout"
                }
            ]
        },
        {
            "metadata": {},
            "cell_type": "markdown",
            "source": "<ul>  \n <li>HTML</li>  \n <li>Java</li>  \n <li>JavaScript</li>  \n <li>SQL</li>  \n</ul>  \n\n<hr>\n\n<ol>  \n <li>HTML</li>  \n <li>Java</li>  \n <li>JavaScript</li>  \n <li>SQL</li>  \n</ol>\n\n<hr>\n\n<a href=\"https://www.ibm.com/in-en/cloud/watson-studio\">Ibm Watson Studio</a>"
        },
        {
            "metadata": {},
            "cell_type": "code",
            "source": "",
            "execution_count": null,
            "outputs": []
        }
    ],
    "metadata": {
        "kernelspec": {
            "name": "python3",
            "display_name": "Python 3.6",
            "language": "python"
        },
        "language_info": {
            "name": "python",
            "version": "3.6.9",
            "mimetype": "text/x-python",
            "codemirror_mode": {
                "name": "ipython",
                "version": 3
            },
            "pygments_lexer": "ipython3",
            "nbconvert_exporter": "python",
            "file_extension": ".py"
        }
    },
    "nbformat": 4,
    "nbformat_minor": 1
}